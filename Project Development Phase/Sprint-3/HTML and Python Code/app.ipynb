{
 "cells": [
  {
   "cell_type": "code",
   "execution_count": 1,
   "id": "769a2d1e",
   "metadata": {},
   "outputs": [
    {
     "ename": "ModuleNotFoundError",
     "evalue": "No module named 'sklearn'",
     "output_type": "error",
     "traceback": [
      "\u001b[1;31m---------------------------------------------------------------------------\u001b[0m",
      "\u001b[1;31mModuleNotFoundError\u001b[0m                       Traceback (most recent call last)",
      "Cell \u001b[1;32mIn [1], line 2\u001b[0m\n\u001b[0;32m      1\u001b[0m \u001b[39mimport\u001b[39;00m \u001b[39mpickle\u001b[39;00m\n\u001b[1;32m----> 2\u001b[0m loaded_class \u001b[39m=\u001b[39m pickle\u001b[39m.\u001b[39;49mload(\u001b[39mopen\u001b[39;49m(\u001b[39m'\u001b[39;49m\u001b[39mrandomclass_chronic\u001b[39;49m\u001b[39m'\u001b[39;49m, \u001b[39m'\u001b[39;49m\u001b[39mrb\u001b[39;49m\u001b[39m'\u001b[39;49m))\n\u001b[0;32m      3\u001b[0m loaded_reg \u001b[39m=\u001b[39m pickle\u001b[39m.\u001b[39mload(\u001b[39mopen\u001b[39m(\u001b[39m'\u001b[39m\u001b[39mrandomreg_chronic\u001b[39m\u001b[39m'\u001b[39m, \u001b[39m'\u001b[39m\u001b[39mrb\u001b[39m\u001b[39m'\u001b[39m))\n",
      "\u001b[1;31mModuleNotFoundError\u001b[0m: No module named 'sklearn'"
     ]
    }
   ],
   "source": [
    "import pickle\n",
    "loaded_class = pickle.load(open('randomclass_chronic', 'rb'))\n",
    "loaded_reg = pickle.load(open('randomreg_chronic', 'rb'))"
   ]
  },
  {
   "cell_type": "code",
   "execution_count": null,
   "id": "7ca3d95a",
   "metadata": {},
   "outputs": [],
   "source": []
  },
  {
   "cell_type": "code",
   "execution_count": null,
   "id": "bc0f8aa9",
   "metadata": {},
   "outputs": [],
   "source": [
    "import numpy as np\n",
    "import pandas as pd\n",
    "import flask"
   ]
  },
  {
   "cell_type": "code",
   "execution_count": null,
   "id": "cb78b555",
   "metadata": {
    "scrolled": true
   },
   "outputs": [
    {
     "name": "stdout",
     "output_type": "stream",
     "text": [
      " * Serving Flask app \"__main__\" (lazy loading)\n",
      " * Environment: production\n",
      "\u001b[31m   WARNING: This is a development server. Do not use it in a production deployment.\u001b[0m\n",
      "\u001b[2m   Use a production WSGI server instead.\u001b[0m\n",
      " * Debug mode: off\n"
     ]
    },
    {
     "name": "stderr",
     "output_type": "stream",
     "text": [
      " * Running on http://127.0.0.1:5000/ (Press CTRL+C to quit)\n",
      "127.0.0.1 - - [06/Nov/2022 00:22:09] \"GET / HTTP/1.1\" 200 -\n",
      "C:\\Users\\sowmy\\anaconda3\\lib\\site-packages\\sklearn\\base.py:450: UserWarning: X does not have valid feature names, but RandomForestClassifier was fitted with feature names\n",
      "  warnings.warn(\n",
      "C:\\Users\\sowmy\\anaconda3\\lib\\site-packages\\sklearn\\base.py:450: UserWarning: X does not have valid feature names, but RandomForestRegressor was fitted with feature names\n",
      "  warnings.warn(\n",
      "127.0.0.1 - - [06/Nov/2022 00:23:37] \"POST /val HTTP/1.1\" 200 -\n"
     ]
    },
    {
     "name": "stdout",
     "output_type": "stream",
     "text": [
      "['52', '80', '1', '0', '0', 0, 0, 0, 0, '125', '22', '1', '139', '5', '16', '43', '4700', '5', 0, 0, 0, 1, 0, 0]\n"
     ]
    }
   ],
   "source": [
    "from flask import Flask, request, redirect, render_template\n",
    "app = Flask(__name__)\n",
    "@app.route(\"/\",methods=['GET', 'POST'])\n",
    "def index():\n",
    "    return render_template('index.html')\n",
    "@app.route(\"/val\",methods=['POST'])\n",
    "\n",
    "def val():\n",
    "    test=[]\n",
    "    if request.method == 'POST':\n",
    "        test.append(request.form.get(\"age\"))\n",
    "        test.append(request.form.get(\"bp\"))\n",
    "        test.append(request.form.get(\"sg\"))\n",
    "        test.append(request.form.get(\"al\"))\n",
    "        test.append(request.form.get(\"su\"))\n",
    "        rb=request.form.get(\"rbc\")\n",
    "        if rb=='abnormal':\n",
    "            test.append(1)\n",
    "        else:\n",
    "            test.append(0)\n",
    "        pc=request.form.get(\"pc\")\n",
    "        if pc=='abnormal':\n",
    "            test.append(1)\n",
    "        else:\n",
    "            test.append(0)\n",
    "        pcc=request.form.get(\"pcc\")\n",
    "        if pcc=='present':\n",
    "            test.append(1)\n",
    "        else:\n",
    "            test.append(0)\n",
    "        ba=request.form.get(\"ba\")\n",
    "        if ba=='present':\n",
    "            test.append(1)\n",
    "        else:\n",
    "            test.append(0)\n",
    "        test.append(request.form.get(\"bgr\"))\n",
    "        test.append(request.form.get(\"bu\"))\n",
    "        test.append(request.form.get(\"sc\"))\n",
    "        test.append(request.form.get(\"sod\"))\n",
    "        test.append(request.form.get(\"pot\"))\n",
    "        test.append(request.form.get(\"hemo\"))\n",
    "        test.append(request.form.get(\"pcv\"))\n",
    "        test.append(request.form.get(\"wc\"))\n",
    "        test.append(request.form.get(\"rc\"))\n",
    "        ht=request.form.get(\"htn\")\n",
    "        if ht=='yes':\n",
    "            test.append(1)\n",
    "        else:\n",
    "            test.append(0)\n",
    "        d=request.form.get(\"dm\")\n",
    "        if d=='yes':\n",
    "            test.append(1)\n",
    "        else:\n",
    "            test.append(0)\n",
    "        ca=request.form.get(\"cad\")\n",
    "        if ca=='yes':\n",
    "            test.append(1)\n",
    "        else:\n",
    "            test.append(0)\n",
    "        ap=request.form.get(\"appet\")\n",
    "        if ap=='good':\n",
    "            test.append(1)\n",
    "        elif ap=='poor':\n",
    "            test.append(0)\n",
    "        else:\n",
    "            test.append(np.nan)\n",
    "        p=request.form.get(\"pe\")\n",
    "        if p=='yes':\n",
    "            test.append(1)\n",
    "        else:\n",
    "            test.append(0)\n",
    "        an=request.form.get(\"ane\")\n",
    "        if an=='yes':\n",
    "            test.append(1)\n",
    "        else:\n",
    "            test.append(0)\n",
    "    print(test)\n",
    "    test_df=pd.DataFrame(test)\n",
    "    test_df=np.array(test_df).reshape(1, -1)\n",
    "    \n",
    "    ans1=loaded_class.predict(test_df)\n",
    "    ans2=loaded_reg.predict(test_df)\n",
    "    if int(ans1)>=0.5:\n",
    "        answer1=\"Sorry to say!! You have CHRONIC DISEASE!!!\"\n",
    "        return render_template('rename.html',answer1=answer1,answer2=ans2)\n",
    "    else:\n",
    "        answer1=\"Happy to say that you don't have CHRONIC DISEASE\"\n",
    "\n",
    "        return render_template('rename2.html',answer1=answer1,answer2=ans2)\n",
    "    \n",
    "if __name__ == \"__main__\":\n",
    "    app.debug=True\n",
    "    app.run(debug=False)"
   ]
  },
  {
   "cell_type": "code",
   "execution_count": null,
   "id": "1a86630c",
   "metadata": {},
   "outputs": [],
   "source": []
  },
  {
   "cell_type": "code",
   "execution_count": null,
   "id": "5cf07a97",
   "metadata": {},
   "outputs": [],
   "source": []
  },
  {
   "cell_type": "code",
   "execution_count": null,
   "id": "f6dab032",
   "metadata": {},
   "outputs": [],
   "source": []
  },
  {
   "cell_type": "code",
   "execution_count": null,
   "id": "140c0470",
   "metadata": {},
   "outputs": [],
   "source": []
  },
  {
   "cell_type": "code",
   "execution_count": null,
   "id": "0c30592f",
   "metadata": {},
   "outputs": [],
   "source": []
  }
 ],
 "metadata": {
  "kernelspec": {
   "display_name": "Python 3.11.0 64-bit",
   "language": "python",
   "name": "python3"
  },
  "language_info": {
   "codemirror_mode": {
    "name": "ipython",
    "version": 3
   },
   "file_extension": ".py",
   "mimetype": "text/x-python",
   "name": "python",
   "nbconvert_exporter": "python",
   "pygments_lexer": "ipython3",
   "version": "3.11.0"
  },
  "vscode": {
   "interpreter": {
    "hash": "5238573367df39f7286bb46f9ff5f08f63a01a80960060ce41e3c79b190280fa"
   }
  }
 },
 "nbformat": 4,
 "nbformat_minor": 5
}
