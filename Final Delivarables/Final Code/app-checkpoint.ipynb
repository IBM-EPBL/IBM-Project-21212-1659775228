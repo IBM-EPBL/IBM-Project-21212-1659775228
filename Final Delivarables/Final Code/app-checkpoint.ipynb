{
 "cells": [
  {
   "cell_type": "code",
   "execution_count": null,
   "id": "769a2d1e",
   "metadata": {},
   "outputs": [],
   "source": [
    "import pickle\n",
    "loaded_class = pickle.load(open('kidney.pkl', 'rb'))\n",
    "loaded_reg = pickle.load(open('kidneyreg', 'rb'))"
   ]
  },
  {
   "cell_type": "code",
   "execution_count": null,
   "id": "bc0f8aa9",
   "metadata": {},
   "outputs": [],
   "source": [
    "import numpy as np\n",
    "import pandas as pd\n",
    "import flask"
   ]
  },
  {
   "cell_type": "code",
   "execution_count": 3,
   "id": "8cba6e09",
   "metadata": {
    "scrolled": true
   },
   "outputs": [
    {
     "ename": "ModuleNotFoundError",
     "evalue": "No module named 'flask'",
     "output_type": "error",
     "traceback": [
      "\u001b[1;31m---------------------------------------------------------------------------\u001b[0m",
      "\u001b[1;31mModuleNotFoundError\u001b[0m                       Traceback (most recent call last)",
      "Cell \u001b[1;32mIn [3], line 1\u001b[0m\n\u001b[1;32m----> 1\u001b[0m \u001b[39mfrom\u001b[39;00m \u001b[39mflask\u001b[39;00m \u001b[39mimport\u001b[39;00m Flask, request, redirect, render_template\n\u001b[0;32m      2\u001b[0m app \u001b[39m=\u001b[39m Flask(\u001b[39m__name__\u001b[39m,template_folder\u001b[39m=\u001b[39m\u001b[39mr\u001b[39m\u001b[39m\"\u001b[39m\u001b[39mC:\u001b[39m\u001b[39m\\\u001b[39m\u001b[39mUsers\u001b[39m\u001b[39m\\\u001b[39m\u001b[39mHP\u001b[39m\u001b[39m\\\u001b[39m\u001b[39mDesktop\u001b[39m\u001b[39m\\\u001b[39m\u001b[39mmyproject\u001b[39m\u001b[39m\"\u001b[39m)\n\u001b[0;32m      3\u001b[0m \u001b[39m@app\u001b[39m\u001b[39m.\u001b[39mroute(\u001b[39m\"\u001b[39m\u001b[39m/\u001b[39m\u001b[39m\"\u001b[39m,methods\u001b[39m=\u001b[39m[\u001b[39m'\u001b[39m\u001b[39mGET\u001b[39m\u001b[39m'\u001b[39m, \u001b[39m'\u001b[39m\u001b[39mPOST\u001b[39m\u001b[39m'\u001b[39m])\n\u001b[0;32m      4\u001b[0m \u001b[39mdef\u001b[39;00m \u001b[39mindex\u001b[39m():\n",
      "\u001b[1;31mModuleNotFoundError\u001b[0m: No module named 'flask'"
     ]
    }
   ],
   "source": [
    "from flask import Flask, request, redirect, render_template\n",
    "app = Flask(__name__,template_folder=r\"C:\\Users\\HP\\Desktop\\myproject\")\n",
    "@app.route(\"/\",methods=['GET', 'POST'])\n",
    "def index():\n",
    "    return render_template('Index.html')\n",
    "@app.route(\"/val\",methods=['POST'])\n",
    "\n",
    "def val():\n",
    "    test=[]\n",
    "    if request.method == 'POST':\n",
    "        test.append(request.form.get(\"age\"))\n",
    "        test.append(request.form.get(\"bp\"))\n",
    "        test.append(request.form.get(\"sg\"))\n",
    "        test.append(request.form.get(\"al\"))\n",
    "        test.append(request.form.get(\"su\"))\n",
    "        rb=request.form.get(\"rbc\")\n",
    "        if rb=='abnormal':\n",
    "            test.append(1)\n",
    "        else:\n",
    "            test.append(0)\n",
    "        pc=request.form.get(\"pc\")\n",
    "        if pc=='abnormal':\n",
    "            test.append(1)\n",
    "        else:\n",
    "            test.append(0)\n",
    "        pcc=request.form.get(\"pcc\")\n",
    "        if pcc=='present':\n",
    "            test.append(1)\n",
    "        else:\n",
    "            test.append(0)\n",
    "        ba=request.form.get(\"ba\")\n",
    "        if ba=='present':\n",
    "            test.append(1)\n",
    "        else:\n",
    "            test.append(0)\n",
    "        test.append(request.form.get(\"bgr\"))\n",
    "        test.append(request.form.get(\"bu\"))\n",
    "        test.append(request.form.get(\"sc\"))\n",
    "        test.append(request.form.get(\"sod\"))\n",
    "        test.append(request.form.get(\"pot\"))\n",
    "        test.append(request.form.get(\"hemo\"))\n",
    "        test.append(request.form.get(\"pcv\"))\n",
    "        test.append(request.form.get(\"wc\"))\n",
    "        test.append(request.form.get(\"rc\"))\n",
    "        ht=request.form.get(\"htn\")\n",
    "        if ht=='yes':\n",
    "            test.append(1)\n",
    "        else:\n",
    "            test.append(0)\n",
    "        d=request.form.get(\"dm\")\n",
    "        if d=='yes':\n",
    "            test.append(1)\n",
    "        else:\n",
    "            test.append(0)\n",
    "        ca=request.form.get(\"cad\")\n",
    "        if ca=='yes':\n",
    "            test.append(1)\n",
    "        else:\n",
    "            test.append(0)\n",
    "        ap=request.form.get(\"appet\")\n",
    "        if ap=='good':\n",
    "            test.append(1)\n",
    "        elif ap=='poor':\n",
    "            test.append(0)\n",
    "        else:\n",
    "            test.append(np.nan)\n",
    "        p=request.form.get(\"pe\")\n",
    "        if p=='yes':\n",
    "            test.append(1)\n",
    "        else:\n",
    "            test.append(0)\n",
    "        an=request.form.get(\"ane\")\n",
    "        if an=='yes':\n",
    "            test.append(1)\n",
    "        else:\n",
    "            test.append(0)\n",
    "    print(test)\n",
    "    test_df=pd.DataFrame(test)\n",
    "    test_df=np.array(test_df).reshape(1, -1)\n",
    "    \n",
    "    ans1=loaded_class.predict(test_df)\n",
    "    ans2=loaded_reg.predict(test_df)\n",
    "    if int(ans1)==1:\n",
    "        answer1=\"Sorry to say!! You have CHRONIC DISEASE!!! PLEASE TAKE CARE\"\n",
    "        return render_template('rename.html',answer1=answer1,answer2=ans2)\n",
    "    else:\n",
    "        answer1=\"Happy to say that you don't have CHRONIC DISEASE\"\n",
    "\n",
    "        return render_template('rename2.html',answer1=answer1,answer2=ans2)\n",
    "    \n",
    "if __name__ == \"__main__\":\n",
    "    app.debug=True\n",
    "    app.run(debug=False)"
   ]
  },
  {
   "cell_type": "code",
   "execution_count": null,
   "id": "cb78b555",
   "metadata": {},
   "outputs": [],
   "source": []
  },
  {
   "cell_type": "code",
   "execution_count": null,
   "id": "1a86630c",
   "metadata": {},
   "outputs": [],
   "source": []
  },
  {
   "cell_type": "code",
   "execution_count": null,
   "id": "5cf07a97",
   "metadata": {},
   "outputs": [],
   "source": []
  },
  {
   "cell_type": "code",
   "execution_count": null,
   "id": "f6dab032",
   "metadata": {},
   "outputs": [],
   "source": []
  },
  {
   "cell_type": "code",
   "execution_count": null,
   "id": "140c0470",
   "metadata": {},
   "outputs": [],
   "source": []
  },
  {
   "cell_type": "code",
   "execution_count": null,
   "id": "0c30592f",
   "metadata": {},
   "outputs": [],
   "source": []
  }
 ],
 "metadata": {
  "kernelspec": {
   "display_name": "Python 3.11.0 64-bit",
   "language": "python",
   "name": "python3"
  },
  "language_info": {
   "codemirror_mode": {
    "name": "ipython",
    "version": 3
   },
   "file_extension": ".py",
   "mimetype": "text/x-python",
   "name": "python",
   "nbconvert_exporter": "python",
   "pygments_lexer": "ipython3",
   "version": "3.11.0"
  },
  "vscode": {
   "interpreter": {
    "hash": "5238573367df39f7286bb46f9ff5f08f63a01a80960060ce41e3c79b190280fa"
   }
  }
 },
 "nbformat": 4,
 "nbformat_minor": 5
}
